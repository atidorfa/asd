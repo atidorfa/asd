{
 "cells": [
  {
   "cell_type": "code",
   "execution_count": 2,
   "id": "9cd75b96",
   "metadata": {},
   "outputs": [],
   "source": [
    "import numpy as np\n",
    "import pandas as pd\n",
    "import matplotlib.pyplot as plt\n",
    "from mpl_toolkits.mplot3d import Axes3D"
   ]
  },
  {
   "cell_type": "code",
   "execution_count": 3,
   "id": "a9de6fb7",
   "metadata": {},
   "outputs": [],
   "source": [
    "def cost_function(X, y, theta):\n",
    "    m = y.size\n",
    "    error = np.dot(X, theta.T) - y\n",
    "    cost = 1/(2*m) * np.dot(error.T, error)\n",
    "    return cost, error\n",
    "\n",
    "def gradient_descent(X, y, theta, alpha, iters):\n",
    "    cost_array = np.zeros(iters)\n",
    "    m = y.size\n",
    "    for i in range(iters):\n",
    "        cost, error = cost_function(X, y, theta)\n",
    "        theta = theta - (alpha * (1/m) * np.dot(X.T, error))\n",
    "        cost_array[i] = cost\n",
    "    return theta, cost_array\n",
    "\n",
    "def plotChart(iterations, cost_num):\n",
    "    fig, ax = plt.subplots()\n",
    "    ax.plot(np.arange(iterations), cost_num, 'r')\n",
    "    ax.set_xlabel('Iterations')\n",
    "    ax.set_ylabel('Cost')\n",
    "    ax.set_title('Error vs Iterations')\n",
    "    plt.style.use('fivethirtyeight')\n",
    "    plt.show()"
   ]
  },
  {
   "cell_type": "code",
   "execution_count": null,
   "id": "7d64ed6f",
   "metadata": {},
   "outputs": [],
   "source": []
  }
 ],
 "metadata": {
  "kernelspec": {
   "display_name": "Python 3 (ipykernel)",
   "language": "python",
   "name": "python3"
  },
  "language_info": {
   "codemirror_mode": {
    "name": "ipython",
    "version": 3
   },
   "file_extension": ".py",
   "mimetype": "text/x-python",
   "name": "python",
   "nbconvert_exporter": "python",
   "pygments_lexer": "ipython3",
   "version": "3.10.2"
  }
 },
 "nbformat": 4,
 "nbformat_minor": 5
}
